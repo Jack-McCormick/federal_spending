{
 "cells": [
  {
   "attachments": {},
   "cell_type": "markdown",
   "metadata": {},
   "source": [
    "### Unzip all files"
   ]
  },
  {
   "cell_type": "code",
   "execution_count": 2,
   "metadata": {},
   "outputs": [
    {
     "name": "stdout",
     "output_type": "stream",
     "text": [
      "Old files deleted.\n",
      "Files extracted successfully!\n"
     ]
    }
   ],
   "source": [
    "import os\n",
    "import zipfile\n",
    "\n",
    "# Specify the directory containing the zipped files\n",
    "zip_directory = '/Users/jack.mccormick/OneDrive - Bonterra/TD39848'\n",
    "\n",
    "# Specify the directory where you want to extract the files (desktop)\n",
    "extract_directory = os.path.expanduser('/Users/jack.mccormick/Desktop/unzipped_rob')\n",
    "\n",
    "# Clear existing files in the data folder\n",
    "if os.path.exists(extract_directory):\n",
    "    for filename in os.listdir(extract_directory):\n",
    "        file_path = os.path.join(extract_directory, filename)\n",
    "        if os.path.isfile(file_path):\n",
    "            os.remove(file_path)\n",
    "else:\n",
    "    os.makedirs(extract_directory, exist_ok=True)\n",
    "    \n",
    "print(\"Old files deleted.\")\n",
    "\n",
    "# Create the extract directory if it doesn't exist\n",
    "os.makedirs(extract_directory, exist_ok=True)\n",
    "\n",
    "# Iterate over the files in the zip directory\n",
    "for filename in os.listdir(zip_directory):\n",
    "    if filename.endswith(\".zip\") and \"FirstActions\" in filename:\n",
    "        zip_path = os.path.join(zip_directory, filename)\n",
    "        \n",
    "        # Extract the contents of the zip file\n",
    "        with zipfile.ZipFile(zip_path, \"r\") as zip_ref:\n",
    "            zip_ref.extractall(extract_directory)\n",
    "\n",
    "print(\"Files extracted successfully!\")"
   ]
  },
  {
   "attachments": {},
   "cell_type": "markdown",
   "metadata": {},
   "source": [
    "### Push unzipped files to stage"
   ]
  },
  {
   "cell_type": "code",
   "execution_count": 3,
   "metadata": {},
   "outputs": [],
   "source": [
    "from snowflake.snowpark import Session\n",
    "import configparser\n",
    "import os\n",
    "\n",
    "config = configparser.ConfigParser()\n",
    "config_path = os.path.join(\"..\", \"credentials.ini\")\n",
    "config.read(config_path)\n",
    "\n",
    "# Create a Snowflake session\n",
    "session = Session.builder.configs({\n",
    "    'account':config[\"ea_snowflake\"][\"ACCOUNT\"],\n",
    "    'user':config[\"ea_snowflake\"][\"USER\"],\n",
    "    'password':config[\"ea_snowflake\"][\"PASSWORD\"],\n",
    "    'role':config[\"ea_snowflake\"][\"ROLE\"],\n",
    "    'warehouse':config[\"ea_snowflake\"][\"WAREHOUSE\"],\n",
    "    'database':'DATA_SCIENCE',\n",
    "    'schema':'RW_EA_VALUETHEMES'\n",
    "}).create()\n",
    "\n",
    "local_folder_path = '/Users/jack.mccormick/Desktop/unzipped_rob'\n",
    "\n",
    "# # Upload the zip files to the stage\n",
    "# session.file.put(local_folder_path + '/*.txt', f'@ea_value_theme_stage/first_actions', auto_compress=False, overwrite=True)"
   ]
  },
  {
   "cell_type": "code",
   "execution_count": 6,
   "metadata": {},
   "outputs": [],
   "source": [
    "import os\n",
    "\n",
    "# Specify the path to the local folder\n",
    "folder_path = '/Users/jack.mccormick/Desktop/unzipped_rob'\n",
    "\n",
    "# Get a list of all files in the folder\n",
    "file_list = os.listdir(folder_path)"
   ]
  },
  {
   "attachments": {},
   "cell_type": "markdown",
   "metadata": {},
   "source": [
    "### Move files from stage to respective tables"
   ]
  },
  {
   "cell_type": "code",
   "execution_count": 4,
   "metadata": {},
   "outputs": [],
   "source": [
    "from snowflake.snowpark.types import StructType, StructField, StringType, IntegerType\n",
    "\n",
    "event_attendance_schema = StructType([\n",
    "    StructField(\"DATABASENAME\", StringType()),\n",
    "    StructField(\"STATEID\", StringType()),\n",
    "    StructField(\"COMMITTEEID\", IntegerType()),\n",
    "    StructField(\"VANID\", IntegerType()), \n",
    "    StructField(\"DATECREATED\", StringType()), \n",
    "    StructField(\"DATESUPPRESSED\", StringType()), \n",
    "    StructField(\"DATEACQUIRED\", StringType()),\n",
    "    StructField(\"EVENTID\", StringType()),\n",
    "    StructField(\"REQUESTEDEVENTID\", StringType()),\n",
    "    StructField(\"EVENTSIGNUPDATE\", StringType())\n",
    "    ])\n",
    "\n",
    "event_signup_schema = StructType([\n",
    "    StructField(\"DATABASENAME\", StringType()),\n",
    "    StructField(\"STATEID\", StringType()),\n",
    "    StructField(\"COMMITTEEID\", IntegerType()),\n",
    "    StructField(\"VANID\", IntegerType()), \n",
    "    StructField(\"DATECREATED\", StringType()), \n",
    "    StructField(\"DATESUPPRESSED\", StringType()), \n",
    "    StructField(\"DATEACQUIRED\", StringType()),\n",
    "    StructField(\"EVENTID\", StringType()),\n",
    "    StructField(\"REQUESTEDEVENTID\", StringType()),\n",
    "    StructField(\"EVENTSIGNUPDATECREATED\", StringType())\n",
    "    ])\n",
    "\n",
    "online_forms_schema = StructType([\n",
    "    StructField(\"DATABASENAME\", StringType()),\n",
    "    StructField(\"STATEID\", StringType()),\n",
    "    StructField(\"COMMITTEEID\", IntegerType()),\n",
    "    StructField(\"VANID\", IntegerType()), \n",
    "    StructField(\"DATECREATED\", StringType()), \n",
    "    StructField(\"DATESUPPRESSED\", StringType()), \n",
    "    StructField(\"DATEACQUIRED\", StringType()),\n",
    "    StructField(\"FORMSUBMITDATE\", StringType()),\n",
    "    StructField(\"COUNTFORMSUBMITS\", IntegerType()),\n",
    "    StructField(\"COUNTREFERREDFORMSUBMITS\", IntegerType())\n",
    "    ])\n",
    "\n",
    "pledge_schema = StructType([\n",
    "    StructField(\"DATABASENAME\", StringType()),\n",
    "    StructField(\"STATEID\", StringType()),\n",
    "    StructField(\"COMMITTEEID\", IntegerType()),\n",
    "    StructField(\"VANID\", IntegerType()), \n",
    "    StructField(\"DATECREATED\", StringType()), \n",
    "    StructField(\"DATESUPPRESSED\", StringType()), \n",
    "    StructField(\"DATEACQUIRED\", StringType()),\n",
    "    StructField(\"PLEDGEDATE\", StringType()),\n",
    "    StructField(\"COUNTPLEDGES\", IntegerType()),\n",
    "    StructField(\"COUNTATTRIBUTEDPLEDGES\", IntegerType())\n",
    "    ])\n",
    "\n",
    "contributions_schema = StructType([\n",
    "    StructField(\"DATABASENAME\", StringType()),\n",
    "    StructField(\"STATEID\", StringType()),\n",
    "    StructField(\"COMMITTEEID\", IntegerType()),\n",
    "    StructField(\"VANID\", IntegerType()), \n",
    "    StructField(\"DATECREATED\", StringType()), \n",
    "    StructField(\"DATESUPPRESSED\", StringType()), \n",
    "    StructField(\"DATEACQUIRED\", StringType()),\n",
    "    StructField(\"CONTACTCONTRIBUTIONSID\", StringType()),\n",
    "    StructField(\"DATERECEIVED\", StringType()),\n",
    "    StructField(\"CONTRIBUTIONATTRIBUTIONS\", StringType())\n",
    "    ])\n",
    "\n",
    "contributions_schema = StructType([\n",
    "    StructField(\"DATABASENAME\", StringType()),\n",
    "    StructField(\"STATEID\", StringType()),\n",
    "    StructField(\"COMMITTEEID\", IntegerType()),\n",
    "    StructField(\"VANID\", IntegerType()), \n",
    "    StructField(\"DATECREATED\", StringType()), \n",
    "    StructField(\"DATESUPPRESSED\", StringType()), \n",
    "    StructField(\"DATEACQUIRED\", StringType()),\n",
    "    StructField(\"CONTACTCONTRIBUTIONSID\", StringType()),\n",
    "    StructField(\"DATERECEIVED\", StringType()),\n",
    "    StructField(\"CONTRIBUTIONATTRIBUTIONS\", StringType())\n",
    "    ])\n",
    "\n",
    "first_action_schema = StructType([\n",
    "    StructField(\"DATABASENAME\", StringType()),\n",
    "    StructField(\"STATEID\", StringType()),\n",
    "    StructField(\"COMMITTEEID\", IntegerType()),\n",
    "    StructField(\"VANID\", IntegerType()), \n",
    "    StructField(\"DATECREATED\", StringType()), \n",
    "    StructField(\"DATESUPPRESSED\", StringType()), \n",
    "    StructField(\"DATEACQUIRED\", StringType()),\n",
    "    StructField(\"FIRSTCONTRIBUTION\", StringType()), \n",
    "    StructField(\"FIRSTEVENTSIGNUP\", StringType()), \n",
    "    StructField(\"FIRSTEVENTATTENDANCE\", StringType()), \n",
    "    StructField(\"FIRSTONLINEFORM\", StringType()),\n",
    "    StructField(\"FIRSTPLEDGE\", StringType())\n",
    "    ])"
   ]
  },
  {
   "cell_type": "code",
   "execution_count": 10,
   "metadata": {},
   "outputs": [],
   "source": [
    "def copy_table_function (file_name):\n",
    "    if \"EventSignupsByDay\" in file_name:\n",
    "        staging_file = session.read.options({'field_delimiter':'\\t','skip_header':1}).schema(schema=event_signup_schema).csv(f'@ea_value_theme_stage/{file_name}')\n",
    "        staging_file.copy_into_table('EVENT_SIGN_UPS_BY_DAY')\n",
    "    elif \"EventAttendanceByDay\" in file_name:\n",
    "        staging_file = session.read.options({'field_delimiter':'\\t','skip_header':1}).schema(schema=event_attendance_schema).csv(f'@ea_value_theme_stage/{file_name}')\n",
    "        staging_file.copy_into_table('EVENT_ATTENDANCE_BY_DAY')\n",
    "    elif \"OnlineForms\" in file_name:\n",
    "        staging_file = session.read.options({'field_delimiter':'\\t','skip_header':1}).schema(schema=online_forms_schema).csv(f'@ea_value_theme_stage/{file_name}')\n",
    "        staging_file.copy_into_table('ONLINE_FORMS')\n",
    "    elif \"Pledges\" in file_name:\n",
    "        staging_file = session.read.options({'field_delimiter':'\\t','skip_header':1}).schema(schema=pledge_schema).csv(f'@ea_value_theme_stage/{file_name}')\n",
    "        staging_file.copy_into_table('PLEDGES')\n",
    "    elif \"ContribsByDay\" in file_name:\n",
    "        staging_file = session.read.options({'field_delimiter':'\\t','skip_header':1}).schema(schema=contributions_schema).csv(f'@ea_value_theme_stage/{file_name}')\n",
    "        staging_file.copy_into_table('CONTRIBUTIONS')\n",
    "    elif \"FirstActions\" in file_name:\n",
    "            staging_file = session.read.options({'field_delimiter':'\\t','skip_header':1}).schema(schema=first_action_schema).csv(f'@ea_value_theme_stage/first_actions/{file_name}')\n",
    "            staging_file.copy_into_table('FIRST_ACTIONS')"
   ]
  },
  {
   "cell_type": "code",
   "execution_count": 12,
   "metadata": {},
   "outputs": [
    {
     "name": "stdout",
     "output_type": "stream",
     "text": [
      "TD39848_ValueThemeMetrics_FirstActions_20240411_18.txt\n",
      "TD39848_ValueThemeMetrics_FirstActions_20240411_19.txt\n",
      "TD39848_ValueThemeMetrics_FirstActions_20240411_8.txt\n",
      "TD39848_ValueThemeMetrics_FirstActions_20240411_9.txt\n",
      "TD39848_ValueThemeMetrics_FirstActions_20240411_22.txt\n",
      "TD39848_ValueThemeMetrics_FirstActions_20240411_23.txt\n",
      "TD39848_ValueThemeMetrics_FirstActions_20240411_21.txt\n",
      "TD39848_ValueThemeMetrics_FirstActions_20240411_20.txt\n",
      "TD39848_ValueThemeMetrics_FirstActions_20240411_2.txt\n",
      "TD39848_ValueThemeMetrics_FirstActions_20240411_11.txt\n",
      "TD39848_ValueThemeMetrics_FirstActions_20240411_10.txt\n",
      "TD39848_ValueThemeMetrics_FirstActions_20240411_3.txt\n",
      "TD39848_ValueThemeMetrics_FirstActions_20240411_1.txt\n",
      "TD39848_ValueThemeMetrics_FirstActions_20240411_12.txt\n",
      "TD39848_ValueThemeMetrics_FirstActions_20240411_13.txt\n",
      "TD39848_ValueThemeMetrics_FirstActions_20240411_4.txt\n",
      "TD39848_ValueThemeMetrics_FirstActions_20240411_17.txt\n",
      "TD39848_ValueThemeMetrics_FirstActions_20240411_16.txt\n",
      "TD39848_ValueThemeMetrics_FirstActions_20240411_5.txt\n",
      "TD39848_ValueThemeMetrics_FirstActions_20240411_7.txt\n",
      "TD39848_ValueThemeMetrics_FirstActions_20240411_14.txt\n",
      "TD39848_ValueThemeMetrics_FirstActions_20240411_15.txt\n",
      "TD39848_ValueThemeMetrics_FirstActions_20240411_6.txt\n"
     ]
    }
   ],
   "source": [
    "for f in file_list:\n",
    "    print(f)\n",
    "    copy_table_function(f)"
   ]
  },
  {
   "cell_type": "code",
   "execution_count": null,
   "metadata": {},
   "outputs": [],
   "source": []
  }
 ],
 "metadata": {
  "kernelspec": {
   "display_name": "snowflake",
   "language": "python",
   "name": "python3"
  },
  "language_info": {
   "codemirror_mode": {
    "name": "ipython",
    "version": 3
   },
   "file_extension": ".py",
   "mimetype": "text/x-python",
   "name": "python",
   "nbconvert_exporter": "python",
   "pygments_lexer": "ipython3",
   "version": "3.8.16"
  },
  "orig_nbformat": 4,
  "vscode": {
   "interpreter": {
    "hash": "a97dc9b47c1511e5a6c1c66a8a08b751fb894440342e1b2e0d3a403aa76c4b20"
   }
  }
 },
 "nbformat": 4,
 "nbformat_minor": 2
}
