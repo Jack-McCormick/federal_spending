{
 "cells": [
  {
   "cell_type": "code",
   "execution_count": 1,
   "outputs": [],
   "source": [
    "# Import Packages\n",
    "import pandas as pd\n",
    "import requests\n",
    "from io import BytesIO\n",
    "from urllib.request import urlopen\n",
    "import glob\n",
    "from zipfile import ZipFile\n",
    "import os"
   ],
   "metadata": {
    "collapsed": false,
    "pycharm": {
     "name": "#%%\n"
    }
   }
  },
  {
   "cell_type": "code",
   "execution_count": 3,
   "outputs": [
    {
     "data": {
      "text/plain": "[{'name': 'Department of Agriculture',\n  'toptier_agency_id': 14,\n  'toptier_code': '012'},\n {'name': 'Department of Commerce',\n  'toptier_agency_id': 15,\n  'toptier_code': '013'},\n {'name': 'Department of Defense',\n  'toptier_agency_id': 126,\n  'toptier_code': '097'},\n {'name': 'Department of Education',\n  'toptier_agency_id': 80,\n  'toptier_code': '091'},\n {'name': 'Department of Energy',\n  'toptier_agency_id': 78,\n  'toptier_code': '089'},\n {'name': 'Department of Health and Human Services',\n  'toptier_agency_id': 68,\n  'toptier_code': '075'},\n {'name': 'Department of Homeland Security',\n  'toptier_agency_id': 63,\n  'toptier_code': '070'},\n {'name': 'Department of Housing and Urban Development',\n  'toptier_agency_id': 76,\n  'toptier_code': '086'},\n {'name': 'Department of Justice',\n  'toptier_agency_id': 17,\n  'toptier_code': '015'},\n {'name': 'Department of Labor',\n  'toptier_agency_id': 18,\n  'toptier_code': '1601'},\n {'name': 'Department of State',\n  'toptier_agency_id': 21,\n  'toptier_code': '019'},\n {'name': 'Department of the Interior',\n  'toptier_agency_id': 16,\n  'toptier_code': '014'},\n {'name': 'Department of the Treasury',\n  'toptier_agency_id': 22,\n  'toptier_code': '020'},\n {'name': 'Department of Transportation',\n  'toptier_agency_id': 62,\n  'toptier_code': '069'},\n {'name': 'Department of Veterans Affairs',\n  'toptier_agency_id': 37,\n  'toptier_code': '036'},\n {'name': 'Environmental Protection Agency',\n  'toptier_agency_id': 61,\n  'toptier_code': '068'},\n {'name': 'General Services Administration',\n  'toptier_agency_id': 40,\n  'toptier_code': '047'},\n {'name': 'National Aeronautics and Space Administration',\n  'toptier_agency_id': 72,\n  'toptier_code': '080'},\n {'name': 'National Science Foundation',\n  'toptier_agency_id': 46,\n  'toptier_code': '049'},\n {'name': 'Nuclear Regulatory Commission',\n  'toptier_agency_id': 31,\n  'toptier_code': '031'},\n {'name': 'Office of Personnel Management',\n  'toptier_agency_id': 24,\n  'toptier_code': '024'},\n {'name': 'Small Business Administration',\n  'toptier_agency_id': 66,\n  'toptier_code': '073'},\n {'name': 'Social Security Administration',\n  'toptier_agency_id': 28,\n  'toptier_code': '028'},\n {'name': 'Agency for International Development',\n  'toptier_agency_id': 65,\n  'toptier_code': '072'}]"
     },
     "execution_count": 3,
     "metadata": {},
     "output_type": "execute_result"
    }
   ],
   "source": [
    "# Retrieve all agency codes\n",
    "url = 'https://api.usaspending.gov'\n",
    "endpoint = '/api/v2/bulk_download/list_agencies/'\n",
    "\n",
    "payload={\n",
    "    \"type\": \"award_agencies\",\n",
    "    \"agency\": 0\n",
    "}\n",
    "response = requests.post(f\"{url}{endpoint}\", json=payload)\n",
    "agency_json = response.json()\n",
    "\n",
    "agency_list = []\n",
    "\n",
    "for i in range(len(agency_json['agencies']['cfo_agencies'])):\n",
    "    agency_list.append(agency_json['agencies']['cfo_agencies'][i]['toptier_agency_id'])\n",
    "\n",
    "agency_json['agencies']['cfo_agencies']"
   ],
   "metadata": {
    "collapsed": false,
    "pycharm": {
     "name": "#%%\n"
    }
   }
  },
  {
   "cell_type": "code",
   "execution_count": 18,
   "outputs": [
    {
     "name": "stdout",
     "output_type": "stream",
     "text": [
      "Retrieved 14 assistance zip file url for download.\n",
      "Downloaded 14 assistance .csv files.\n",
      "Retrieved 15 assistance zip file url for download.\n",
      "Downloaded 15 assistance .csv files.\n",
      "Retrieved 126 assistance zip file url for download.\n",
      "Downloaded 126 assistance .csv files.\n",
      "Retrieved 80 assistance zip file url for download.\n",
      "Downloaded 80 assistance .csv files.\n",
      "Retrieved 78 assistance zip file url for download.\n",
      "Downloaded 78 assistance .csv files.\n",
      "Retrieved 68 assistance zip file url for download.\n",
      "Downloaded 68 assistance .csv files.\n",
      "Retrieved 63 assistance zip file url for download.\n",
      "Downloaded 63 assistance .csv files.\n",
      "Retrieved 76 assistance zip file url for download.\n",
      "Downloaded 76 assistance .csv files.\n",
      "Retrieved 17 assistance zip file url for download.\n",
      "Downloaded 17 assistance .csv files.\n",
      "Retrieved 18 assistance zip file url for download.\n",
      "Downloaded 18 assistance .csv files.\n",
      "Retrieved 21 assistance zip file url for download.\n",
      "Downloaded 21 assistance .csv files.\n",
      "Retrieved 16 assistance zip file url for download.\n",
      "Downloaded 16 assistance .csv files.\n",
      "Retrieved 22 assistance zip file url for download.\n",
      "Downloaded 22 assistance .csv files.\n",
      "Retrieved 62 assistance zip file url for download.\n",
      "Downloaded 62 assistance .csv files.\n",
      "Retrieved 37 assistance zip file url for download.\n",
      "Downloaded 37 assistance .csv files.\n",
      "Retrieved 61 assistance zip file url for download.\n",
      "Downloaded 61 assistance .csv files.\n",
      "Retrieved 40 assistance zip file url for download.\n",
      "Downloaded 40 assistance .csv files.\n",
      "Retrieved 72 assistance zip file url for download.\n",
      "Downloaded 72 assistance .csv files.\n",
      "Retrieved 46 assistance zip file url for download.\n",
      "Downloaded 46 assistance .csv files.\n",
      "Retrieved 31 assistance zip file url for download.\n",
      "Downloaded 31 assistance .csv files.\n",
      "Retrieved 24 assistance zip file url for download.\n",
      "Downloaded 24 assistance .csv files.\n",
      "Retrieved 66 assistance zip file url for download.\n",
      "Downloaded 66 assistance .csv files.\n",
      "Retrieved 28 assistance zip file url for download.\n",
      "Downloaded 28 assistance .csv files.\n",
      "Retrieved 65 assistance zip file url for download.\n",
      "Downloaded 65 assistance .csv files.\n"
     ]
    }
   ],
   "source": [
    "# Iterate through all agency codes to retrieve and download all funding data\n",
    "url = 'https://api.usaspending.gov'\n",
    "endpoint = '/api/v2/bulk_download/list_monthly_files/'\n",
    "\n",
    "award_types = ['assistance'] # ADD 'contracts' BACK\n",
    "\n",
    "for x in agency_list:\n",
    "    for y in award_types:\n",
    "        payload= {\n",
    "            \"agency\": x,\n",
    "            \"fiscal_year\": 2022,\n",
    "            \"type\": y\n",
    "        }\n",
    "\n",
    "        response = requests.post(f\"{url}{endpoint}\", json=payload)\n",
    "        data = response.json()\n",
    "\n",
    "        print('Retrieved', str(x), str(y), 'zip file url for download.')\n",
    "\n",
    "        for i in data['monthly_files']:\n",
    "            if i['fiscal_year'] == 2022:\n",
    "                with urlopen(i['url']) as zipresp:\n",
    "                    with ZipFile(BytesIO(zipresp.read())) as zfile:\n",
    "                        zfile.extractall('/Users/jack/PycharmProjects/exploration_of_data/usa_spending_files')\n",
    "                        print('Downloaded', str(x), str(y),'.csv files.')"
   ],
   "metadata": {
    "collapsed": false,
    "pycharm": {
     "name": "#%%\n"
    }
   }
  },
  {
   "cell_type": "code",
   "execution_count": 19,
   "outputs": [
    {
     "name": "stdout",
     "output_type": "stream",
     "text": [
      "Files downloaded and concatenated 7317227 rows returned.\n"
     ]
    }
   ],
   "source": [
    "path = '/Users/jack/PycharmProjects/exploration_of_data/usa_spending_files'\n",
    "csv_files = glob.glob(os.path.join(path, \"*.csv\"))\n",
    "\n",
    "li=[]\n",
    "\n",
    "# loop over the list of csv files\n",
    "for f in csv_files:\n",
    "    df = pd.read_csv(f, index_col=None, header=0, dtype={'recipient_city_code': object}, low_memory=False)\n",
    "    li.append(df)\n",
    "\n",
    "complete_df = pd.concat(li, axis=0, ignore_index=True)\n",
    "\n",
    "print('Files downloaded and concatenated', len(complete_df.index), 'rows returned.')"
   ],
   "metadata": {
    "collapsed": false,
    "pycharm": {
     "name": "#%%\n"
    }
   }
  },
  {
   "cell_type": "code",
   "execution_count": 22,
   "outputs": [
    {
     "name": "stdout",
     "output_type": "stream",
     "text": [
      "Complete dataframe filtered 4852766 rows returned. Ready for Salesforce join.\n"
     ]
    }
   ],
   "source": [
    "# Filter for only necessary columns\n",
    "filtered_complete_df = complete_df[[\n",
    "    'assistance_transaction_unique_key',\n",
    "    'assistance_award_unique_key',\n",
    "    'business_types_code',\n",
    "    'federal_action_obligation',\n",
    "    'total_obligated_amount',\n",
    "    'award_id_fain',\n",
    "    'action_date',\n",
    "    'action_date_fiscal_year',\n",
    "    'period_of_performance_start_date',\n",
    "    'period_of_performance_current_end_date',\n",
    "    'awarding_agency_name',\n",
    "    'awarding_sub_agency_name',\n",
    "    'funding_agency_name',\n",
    "    'program_activities_funding_this_award',\n",
    "    'recipient_uei',\n",
    "    'recipient_duns',\n",
    "    'recipient_name',\n",
    "    'recipient_address_line_1',\n",
    "    'recipient_city_name',\n",
    "    'recipient_state_name',\n",
    "    'recipient_zip_code',\n",
    "    'recipient_parent_uei',\n",
    "    'recipient_parent_duns',\n",
    "    'recipient_parent_name',\n",
    "    'cfda_number',\n",
    "    'cfda_title',\n",
    "    'funding_opportunity_number']]\n",
    "\n",
    "filtered_complete_df = filtered_complete_df[filtered_complete_df['federal_action_obligation']>0]\n",
    "\n",
    "print('Complete dataframe filtered', len(filtered_complete_df.index), 'rows returned. Ready for Salesforce join.')"
   ],
   "metadata": {
    "collapsed": false,
    "pycharm": {
     "name": "#%%\n"
    }
   }
  },
  {
   "cell_type": "code",
   "execution_count": 6,
   "outputs": [
    {
     "name": "stdout",
     "output_type": "stream",
     "text": [
      "Files removed from folder.\n"
     ]
    }
   ],
   "source": [
    "# Remove files from folder\n",
    "pattern = r\"/Users/jack/PycharmProjects/exploration_of_data/usa_spending_files/*.csv\"\n",
    "\n",
    "for item in glob.iglob(pattern, recursive=True):\n",
    "    # delete file\n",
    "    os.remove(item)\n",
    "\n",
    "print('Files removed from folder.')"
   ],
   "metadata": {
    "collapsed": false,
    "pycharm": {
     "name": "#%%\n"
    }
   }
  },
  {
   "cell_type": "code",
   "execution_count": 7,
   "outputs": [
    {
     "name": "stdout",
     "output_type": "stream",
     "text": [
      "Award dataframe filtered for null Recipient UEI and name, 691051 rows returned.\n"
     ]
    }
   ],
   "source": [
    "prime_award_df = filtered_complete_df[(filtered_complete_df['recipient_uei'].isna() == False) & (filtered_complete_df['recipient_state_name'].isna() == False)]\n",
    "\n",
    "print('Award dataframe filtered for null Recipient UEI and State Name,', len(prime_award_df.index), 'rows returned.')"
   ],
   "metadata": {
    "collapsed": false,
    "pycharm": {
     "name": "#%%\n"
    }
   }
  },
  {
   "cell_type": "code",
   "execution_count": 29,
   "outputs": [
    {
     "name": "stderr",
     "output_type": "stream",
     "text": [
      "/var/folders/s6/mh3v3q3d25s567j9vpd2g6xw0000gq/T/ipykernel_35591/1517147862.py:1: DtypeWarning: Columns (4,5,27,29,31,32,33,37,39,40,41,49,50,51,52,56,58,59,63,65,75,76,77,79,80,81,82,84,85,88,89,90,93,95,100,102,103,105,106,107,109,111,112,118,119,120,121,122,130,132,134,137,138,140,142,143,145,148,149,150,151,152,153,154,155,158,159,160,161,162,163,164,165,167,171,172,173) have mixed types. Specify dtype option on import or set low_memory=False.\n",
      "  client_df = pd.read_csv('/Users/Jack/Desktop/databricks_sfdc_accounts.csv')\n",
      "/var/folders/s6/mh3v3q3d25s567j9vpd2g6xw0000gq/T/ipykernel_35591/1517147862.py:5: SettingWithCopyWarning: \n",
      "A value is trying to be set on a copy of a slice from a DataFrame.\n",
      "Try using .loc[row_indexer,col_indexer] = value instead\n",
      "\n",
      "See the caveats in the documentation: https://pandas.pydata.org/pandas-docs/stable/user_guide/indexing.html#returning-a-view-versus-a-copy\n",
      "  prime_award_df['recipient_name'] = prime_award_df['recipient_name'].str.lower()\n",
      "/var/folders/s6/mh3v3q3d25s567j9vpd2g6xw0000gq/T/ipykernel_35591/1517147862.py:6: SettingWithCopyWarning: \n",
      "A value is trying to be set on a copy of a slice from a DataFrame.\n",
      "Try using .loc[row_indexer,col_indexer] = value instead\n",
      "\n",
      "See the caveats in the documentation: https://pandas.pydata.org/pandas-docs/stable/user_guide/indexing.html#returning-a-view-versus-a-copy\n",
      "  prime_award_df['recipient_parent_name'] = prime_award_df['recipient_parent_name'].str.lower()\n",
      "/var/folders/s6/mh3v3q3d25s567j9vpd2g6xw0000gq/T/ipykernel_35591/1517147862.py:7: SettingWithCopyWarning: \n",
      "A value is trying to be set on a copy of a slice from a DataFrame.\n",
      "Try using .loc[row_indexer,col_indexer] = value instead\n",
      "\n",
      "See the caveats in the documentation: https://pandas.pydata.org/pandas-docs/stable/user_guide/indexing.html#returning-a-view-versus-a-copy\n",
      "  prime_award_df['recipient_city_name'] = prime_award_df['recipient_city_name'].str.title()\n",
      "/var/folders/s6/mh3v3q3d25s567j9vpd2g6xw0000gq/T/ipykernel_35591/1517147862.py:8: SettingWithCopyWarning: \n",
      "A value is trying to be set on a copy of a slice from a DataFrame.\n",
      "Try using .loc[row_indexer,col_indexer] = value instead\n",
      "\n",
      "See the caveats in the documentation: https://pandas.pydata.org/pandas-docs/stable/user_guide/indexing.html#returning-a-view-versus-a-copy\n",
      "  prime_award_df['recipient_state_name'] = prime_award_df['recipient_state_name'].str.title()\n",
      "/var/folders/s6/mh3v3q3d25s567j9vpd2g6xw0000gq/T/ipykernel_35591/1517147862.py:10: SettingWithCopyWarning: \n",
      "A value is trying to be set on a copy of a slice from a DataFrame.\n",
      "Try using .loc[row_indexer,col_indexer] = value instead\n",
      "\n",
      "See the caveats in the documentation: https://pandas.pydata.org/pandas-docs/stable/user_guide/indexing.html#returning-a-view-versus-a-copy\n",
      "  prime_award_df['period_of_performance_start_date'] =  pd.to_datetime(prime_award_df['period_of_performance_start_date'], format='%Y-%m-%d', errors = 'coerce')\n",
      "/var/folders/s6/mh3v3q3d25s567j9vpd2g6xw0000gq/T/ipykernel_35591/1517147862.py:11: SettingWithCopyWarning: \n",
      "A value is trying to be set on a copy of a slice from a DataFrame.\n",
      "Try using .loc[row_indexer,col_indexer] = value instead\n",
      "\n",
      "See the caveats in the documentation: https://pandas.pydata.org/pandas-docs/stable/user_guide/indexing.html#returning-a-view-versus-a-copy\n",
      "  prime_award_df['period_of_performance_current_end_date'] =  pd.to_datetime(prime_award_df['period_of_performance_current_end_date'], format='%Y-%m-%d', errors = 'coerce')\n",
      "/var/folders/s6/mh3v3q3d25s567j9vpd2g6xw0000gq/T/ipykernel_35591/1517147862.py:40: SettingWithCopyWarning: \n",
      "A value is trying to be set on a copy of a slice from a DataFrame.\n",
      "Try using .loc[row_indexer,col_indexer] = value instead\n",
      "\n",
      "See the caveats in the documentation: https://pandas.pydata.org/pandas-docs/stable/user_guide/indexing.html#returning-a-view-versus-a-copy\n",
      "  prime_award_df['recipient_zip_code'] = pd.to_numeric(prime_award_df['recipient_zip_code'], errors='coerce').fillna(0)\n",
      "/var/folders/s6/mh3v3q3d25s567j9vpd2g6xw0000gq/T/ipykernel_35591/1517147862.py:41: SettingWithCopyWarning: \n",
      "A value is trying to be set on a copy of a slice from a DataFrame.\n",
      "Try using .loc[row_indexer,col_indexer] = value instead\n",
      "\n",
      "See the caveats in the documentation: https://pandas.pydata.org/pandas-docs/stable/user_guide/indexing.html#returning-a-view-versus-a-copy\n",
      "  prime_award_df['recipient_zip_code'] = prime_award_df['recipient_zip_code'].astype(int)\n",
      "/var/folders/s6/mh3v3q3d25s567j9vpd2g6xw0000gq/T/ipykernel_35591/1517147862.py:42: SettingWithCopyWarning: \n",
      "A value is trying to be set on a copy of a slice from a DataFrame.\n",
      "Try using .loc[row_indexer,col_indexer] = value instead\n",
      "\n",
      "See the caveats in the documentation: https://pandas.pydata.org/pandas-docs/stable/user_guide/indexing.html#returning-a-view-versus-a-copy\n",
      "  prime_award_df['recipient_zip_code'] = prime_award_df['recipient_zip_code'].apply(lambda x: '{0:0>5}'.format(x))\n",
      "/var/folders/s6/mh3v3q3d25s567j9vpd2g6xw0000gq/T/ipykernel_35591/1517147862.py:14: FutureWarning: The default value of regex will change from True to False in a future version.\n",
      "  df_name[col_name] = df_name[col_name]\\\n",
      "/var/folders/s6/mh3v3q3d25s567j9vpd2g6xw0000gq/T/ipykernel_35591/1517147862.py:14: SettingWithCopyWarning: \n",
      "A value is trying to be set on a copy of a slice from a DataFrame.\n",
      "Try using .loc[row_indexer,col_indexer] = value instead\n",
      "\n",
      "See the caveats in the documentation: https://pandas.pydata.org/pandas-docs/stable/user_guide/indexing.html#returning-a-view-versus-a-copy\n",
      "  df_name[col_name] = df_name[col_name]\\\n"
     ]
    }
   ],
   "source": [
    "client_df = pd.read_csv('/Users/Jack/Desktop/databricks_sfdc_accounts.csv')\n",
    "\n",
    "# Clean prime award data for merge\n",
    "\n",
    "prime_award_df['recipient_name'] = prime_award_df['recipient_name'].str.lower()\n",
    "prime_award_df['recipient_parent_name'] = prime_award_df['recipient_parent_name'].str.lower()\n",
    "prime_award_df['recipient_city_name'] = prime_award_df['recipient_city_name'].str.title()\n",
    "prime_award_df['recipient_state_name'] = prime_award_df['recipient_state_name'].str.title()\n",
    "#prime_award_df.loc[:,'total_obligated_amount'] = prime_award_df['total_obligated_amount'].map('{:,.0f}'.format)\n",
    "prime_award_df['period_of_performance_start_date'] =  pd.to_datetime(prime_award_df['period_of_performance_start_date'], format='%Y-%m-%d', errors = 'coerce')\n",
    "prime_award_df['period_of_performance_current_end_date'] =  pd.to_datetime(prime_award_df['period_of_performance_current_end_date'], format='%Y-%m-%d', errors = 'coerce')\n",
    "\n",
    "def df_name_clean (df_name, col_name):\n",
    "    df_name[col_name] = df_name[col_name]\\\n",
    "    .str.replace(',incorporated', '')\\\n",
    "    .str.replace('!', '')\\\n",
    "    .str.replace('.inc.', '')\\\n",
    "    .str.replace(',inc.', '')\\\n",
    "    .str.replace(', inc.', '')\\\n",
    "    .str.replace(' inc.', '')\\\n",
    "    .str.replace(' inc', '')\\\n",
    "    .str.replace(',inc', '')\\\n",
    "    .str.replace(', inc', '')\\\n",
    "    .str.replace(',, the', '')\\\n",
    "    .str.replace('charities archdiocese', 'charities of the archdiocese of')\\\n",
    "    .str.replace('charities diocese of', 'charities of the diocese of')\\\n",
    "    .str.replace('of of', 'of')\\\n",
    "    .str.replace(', the', '')\\\n",
    "    .str.rstrip(', ')\n",
    "\n",
    "client_df = client_df.rename(columns={\n",
    "    'Billing State/Province' : 'client_state',\n",
    "    'Billing City' : 'client_city',\n",
    "    'Unique ID' : 'id',\n",
    "    'Account Name' : 'account_name',\n",
    "    'Zip Code': 'client_zip_code'\n",
    "})\n",
    "\n",
    "client_df['name'] = client_df['name'].str.lower()\n",
    "prime_award_df['recipient_zip_code'] = pd.to_numeric(prime_award_df['recipient_zip_code'], errors='coerce').fillna(0)\n",
    "prime_award_df['recipient_zip_code'] = prime_award_df['recipient_zip_code'].astype(int)\n",
    "prime_award_df['recipient_zip_code'] = prime_award_df['recipient_zip_code'].apply(lambda x: '{0:0>5}'.format(x))\n",
    "client_df['zip_code_id'] = pd.to_numeric(client_df['zip_code_id'], errors='coerce').fillna(0)\n",
    "client_df['zip_code_id'] = client_df['zip_code_id'].astype(int)\n",
    "client_df['zip_code_id'] = client_df['zip_code_id'].apply(lambda x: '{0:0>5}'.format(x))\n",
    "\n",
    "df_name_clean(client_df, 'name')\n",
    "df_name_clean(prime_award_df, 'recipient_name')"
   ],
   "metadata": {
    "collapsed": false,
    "pycharm": {
     "name": "#%%\n"
    }
   }
  },
  {
   "cell_type": "code",
   "execution_count": 33,
   "outputs": [
    {
     "name": "stdout",
     "output_type": "stream",
     "text": [
      "Using Name, City, State, and Zip Code, matching current clients onto USA spending produced 162610 matches\n",
      "USA Spending returns 14481 unique accounts\n"
     ]
    }
   ],
   "source": [
    "# Join SFDC accounts onto USA Spending Award data\n",
    "\n",
    "prime_award_merged_df = client_df.merge(\n",
    "    prime_award_df,\n",
    "    left_on = ['name', 'billing_state', 'billing_city'],#, 'zip_code_id'],\n",
    "    right_on = ['recipient_name', 'recipient_state_name', 'recipient_city_name'],#, 'recipient_zip_code'],\n",
    "    suffixes = ['_left', '_right'],\n",
    "    how = 'inner'\n",
    ")\n",
    "\n",
    "print('Using Name, City, State, matching current clients onto USA spending produced ' + str(prime_award_merged_df.shape[0]) + ' matches')\n",
    "\n",
    "print('USA Spending returns ' + str(prime_award_merged_df[['recipient_uei_right']].drop_duplicates().shape[0]) + ' unique accounts')"
   ],
   "metadata": {
    "collapsed": false,
    "pycharm": {
     "name": "#%%\n"
    }
   }
  },
  {
   "cell_type": "code",
   "execution_count": 127,
   "outputs": [],
   "source": [
    "client_mapping_dict = dict(zip(prime_award_merged_df.id, prime_award_merged_df.recipient_uei_right))\n",
    "client_mapping_df = pd.DataFrame.from_dict(client_mapping_dict, orient='index').reset_index()"
   ],
   "metadata": {
    "collapsed": false,
    "pycharm": {
     "name": "#%%\n"
    }
   }
  },
  {
   "cell_type": "code",
   "execution_count": null,
   "outputs": [],
   "source": [],
   "metadata": {
    "collapsed": false,
    "pycharm": {
     "name": "#%%\n"
    }
   }
  },
  {
   "cell_type": "code",
   "execution_count": null,
   "outputs": [],
   "source": [],
   "metadata": {
    "collapsed": false,
    "pycharm": {
     "name": "#%%\n"
    }
   }
  },
  {
   "cell_type": "code",
   "execution_count": 116,
   "outputs": [
    {
     "name": "stdout",
     "output_type": "stream",
     "text": [
      "Retrieved 14 contracts zip file url for download.\n",
      "Downloaded 14 contracts .csv files.\n",
      "Retrieved 15 contracts zip file url for download.\n",
      "Downloaded 15 contracts .csv files.\n",
      "Retrieved 126 contracts zip file url for download.\n",
      "Downloaded 126 contracts .csv files.\n",
      "Retrieved 80 contracts zip file url for download.\n",
      "Downloaded 80 contracts .csv files.\n",
      "Retrieved 78 contracts zip file url for download.\n",
      "Downloaded 78 contracts .csv files.\n",
      "Retrieved 68 contracts zip file url for download.\n",
      "Downloaded 68 contracts .csv files.\n",
      "Retrieved 63 contracts zip file url for download.\n",
      "Downloaded 63 contracts .csv files.\n",
      "Retrieved 76 contracts zip file url for download.\n",
      "Downloaded 76 contracts .csv files.\n",
      "Retrieved 17 contracts zip file url for download.\n",
      "Downloaded 17 contracts .csv files.\n",
      "Retrieved 18 contracts zip file url for download.\n",
      "Downloaded 18 contracts .csv files.\n",
      "Retrieved 21 contracts zip file url for download.\n",
      "Downloaded 21 contracts .csv files.\n",
      "Retrieved 16 contracts zip file url for download.\n",
      "Downloaded 16 contracts .csv files.\n",
      "Retrieved 22 contracts zip file url for download.\n",
      "Downloaded 22 contracts .csv files.\n",
      "Retrieved 62 contracts zip file url for download.\n",
      "Downloaded 62 contracts .csv files.\n",
      "Retrieved 37 contracts zip file url for download.\n",
      "Downloaded 37 contracts .csv files.\n",
      "Retrieved 61 contracts zip file url for download.\n",
      "Downloaded 61 contracts .csv files.\n",
      "Retrieved 40 contracts zip file url for download.\n",
      "Downloaded 40 contracts .csv files.\n",
      "Retrieved 72 contracts zip file url for download.\n",
      "Downloaded 72 contracts .csv files.\n",
      "Retrieved 46 contracts zip file url for download.\n",
      "Downloaded 46 contracts .csv files.\n",
      "Retrieved 31 contracts zip file url for download.\n",
      "Downloaded 31 contracts .csv files.\n",
      "Retrieved 24 contracts zip file url for download.\n",
      "Downloaded 24 contracts .csv files.\n",
      "Retrieved 66 contracts zip file url for download.\n",
      "Downloaded 66 contracts .csv files.\n",
      "Retrieved 28 contracts zip file url for download.\n",
      "Downloaded 28 contracts .csv files.\n",
      "Retrieved 65 contracts zip file url for download.\n",
      "Downloaded 65 contracts .csv files.\n"
     ]
    }
   ],
   "source": [
    "# Iterate through all agency codes to retrieve and download all funding data\n",
    "url = 'https://api.usaspending.gov'\n",
    "endpoint = '/api/v2/bulk_download/list_monthly_files/'\n",
    "\n",
    "award_types = ['contracts']\n",
    "\n",
    "for x in agency_list:\n",
    "    for y in award_types:\n",
    "        payload= {\n",
    "            \"agency\": x,\n",
    "            \"fiscal_year\": 2022,\n",
    "            \"type\": y\n",
    "        }\n",
    "\n",
    "        response = requests.post(f\"{url}{endpoint}\", json=payload)\n",
    "        data = response.json()\n",
    "\n",
    "        print('Retrieved', str(x), str(y), 'zip file url for download.')\n",
    "\n",
    "        for i in data['monthly_files']:\n",
    "            if i['fiscal_year'] == 2022:\n",
    "                with urlopen(i['url']) as zipresp:\n",
    "                    with ZipFile(BytesIO(zipresp.read())) as zfile:\n",
    "                        zfile.extractall('/Users/jack/PycharmProjects/exploration_of_data/usa_spending_files')\n",
    "                        print('Downloaded', str(x), str(y),'.csv files.')"
   ],
   "metadata": {
    "collapsed": false,
    "pycharm": {
     "name": "#%%\n"
    }
   }
  },
  {
   "cell_type": "code",
   "execution_count": 117,
   "outputs": [
    {
     "name": "stdout",
     "output_type": "stream",
     "text": [
      "Files downloaded and concatenated 4900159 rows returned.\n"
     ]
    }
   ],
   "source": [
    "path = '/Users/jack/PycharmProjects/exploration_of_data/usa_spending_files'\n",
    "csv_files = glob.glob(os.path.join(path, \"*.csv\"))\n",
    "\n",
    "li=[]\n",
    "\n",
    "# loop over the list of csv files\n",
    "for f in csv_files:\n",
    "    df = pd.read_csv(f, index_col=None, header=0, dtype={'recipient_city_code': object}, low_memory=False)\n",
    "    li.append(df)\n",
    "\n",
    "complete_df = pd.concat(li, axis=0, ignore_index=True)\n",
    "\n",
    "print('Files downloaded and concatenated', len(complete_df.index), 'rows returned.')"
   ],
   "metadata": {
    "collapsed": false,
    "pycharm": {
     "name": "#%%\n"
    }
   }
  },
  {
   "cell_type": "code",
   "execution_count": 134,
   "outputs": [
    {
     "name": "stderr",
     "output_type": "stream",
     "text": [
      "/var/folders/s6/mh3v3q3d25s567j9vpd2g6xw0000gq/T/ipykernel_35591/1929984851.py:1: UserWarning: Boolean Series key will be reindexed to match DataFrame index.\n",
      "  contract_df = complete_df[(complete_df['federal_action_obligation']>0) & (filtered_complete_df['recipient_uei'].isna()==False)]\n"
     ]
    }
   ],
   "source": [
    "contract_df = complete_df[(complete_df['federal_action_obligation']>0) & (filtered_complete_df['recipient_uei'].isna()==False)]"
   ],
   "metadata": {
    "collapsed": false,
    "pycharm": {
     "name": "#%%\n"
    }
   }
  },
  {
   "cell_type": "code",
   "execution_count": 136,
   "outputs": [
    {
     "name": "stderr",
     "output_type": "stream",
     "text": [
      "/var/folders/s6/mh3v3q3d25s567j9vpd2g6xw0000gq/T/ipykernel_35591/2885479390.py:1: SettingWithCopyWarning: \n",
      "A value is trying to be set on a copy of a slice from a DataFrame.\n",
      "Try using .loc[row_indexer,col_indexer] = value instead\n",
      "\n",
      "See the caveats in the documentation: https://pandas.pydata.org/pandas-docs/stable/user_guide/indexing.html#returning-a-view-versus-a-copy\n",
      "  contract_df['recipient_name'] = contract_df['recipient_name'].str.lower()\n",
      "/var/folders/s6/mh3v3q3d25s567j9vpd2g6xw0000gq/T/ipykernel_35591/2885479390.py:2: SettingWithCopyWarning: \n",
      "A value is trying to be set on a copy of a slice from a DataFrame.\n",
      "Try using .loc[row_indexer,col_indexer] = value instead\n",
      "\n",
      "See the caveats in the documentation: https://pandas.pydata.org/pandas-docs/stable/user_guide/indexing.html#returning-a-view-versus-a-copy\n",
      "  contract_df['recipient_parent_name'] = contract_df['recipient_parent_name'].str.lower()\n",
      "/var/folders/s6/mh3v3q3d25s567j9vpd2g6xw0000gq/T/ipykernel_35591/2885479390.py:3: SettingWithCopyWarning: \n",
      "A value is trying to be set on a copy of a slice from a DataFrame.\n",
      "Try using .loc[row_indexer,col_indexer] = value instead\n",
      "\n",
      "See the caveats in the documentation: https://pandas.pydata.org/pandas-docs/stable/user_guide/indexing.html#returning-a-view-versus-a-copy\n",
      "  contract_df['recipient_city_name'] = contract_df['recipient_city_name'].str.title()\n",
      "/var/folders/s6/mh3v3q3d25s567j9vpd2g6xw0000gq/T/ipykernel_35591/2885479390.py:4: SettingWithCopyWarning: \n",
      "A value is trying to be set on a copy of a slice from a DataFrame.\n",
      "Try using .loc[row_indexer,col_indexer] = value instead\n",
      "\n",
      "See the caveats in the documentation: https://pandas.pydata.org/pandas-docs/stable/user_guide/indexing.html#returning-a-view-versus-a-copy\n",
      "  contract_df['recipient_state_name'] = contract_df['recipient_state_name'].str.title()\n",
      "/var/folders/s6/mh3v3q3d25s567j9vpd2g6xw0000gq/T/ipykernel_35591/2885479390.py:5: SettingWithCopyWarning: \n",
      "A value is trying to be set on a copy of a slice from a DataFrame.\n",
      "Try using .loc[row_indexer,col_indexer] = value instead\n",
      "\n",
      "See the caveats in the documentation: https://pandas.pydata.org/pandas-docs/stable/user_guide/indexing.html#returning-a-view-versus-a-copy\n",
      "  contract_df['period_of_performance_start_date'] =  pd.to_datetime(contract_df['period_of_performance_start_date'], format='%Y-%m-%d', errors = 'coerce')\n",
      "/var/folders/s6/mh3v3q3d25s567j9vpd2g6xw0000gq/T/ipykernel_35591/2885479390.py:6: SettingWithCopyWarning: \n",
      "A value is trying to be set on a copy of a slice from a DataFrame.\n",
      "Try using .loc[row_indexer,col_indexer] = value instead\n",
      "\n",
      "See the caveats in the documentation: https://pandas.pydata.org/pandas-docs/stable/user_guide/indexing.html#returning-a-view-versus-a-copy\n",
      "  contract_df['period_of_performance_current_end_date'] =  pd.to_datetime(contract_df['period_of_performance_current_end_date'], format='%Y-%m-%d', errors = 'coerce')\n",
      "/var/folders/s6/mh3v3q3d25s567j9vpd2g6xw0000gq/T/ipykernel_35591/1517147862.py:14: FutureWarning: The default value of regex will change from True to False in a future version.\n",
      "  df_name[col_name] = df_name[col_name]\\\n",
      "/var/folders/s6/mh3v3q3d25s567j9vpd2g6xw0000gq/T/ipykernel_35591/1517147862.py:14: SettingWithCopyWarning: \n",
      "A value is trying to be set on a copy of a slice from a DataFrame.\n",
      "Try using .loc[row_indexer,col_indexer] = value instead\n",
      "\n",
      "See the caveats in the documentation: https://pandas.pydata.org/pandas-docs/stable/user_guide/indexing.html#returning-a-view-versus-a-copy\n",
      "  df_name[col_name] = df_name[col_name]\\\n"
     ]
    }
   ],
   "source": [
    "contract_df['recipient_name'] = contract_df['recipient_name'].str.lower()\n",
    "contract_df['recipient_parent_name'] = contract_df['recipient_parent_name'].str.lower()\n",
    "contract_df['recipient_city_name'] = contract_df['recipient_city_name'].str.title()\n",
    "contract_df['recipient_state_name'] = contract_df['recipient_state_name'].str.title()\n",
    "contract_df['period_of_performance_start_date'] =  pd.to_datetime(contract_df['period_of_performance_start_date'], format='%Y-%m-%d', errors = 'coerce')\n",
    "contract_df['period_of_performance_current_end_date'] =  pd.to_datetime(contract_df['period_of_performance_current_end_date'], format='%Y-%m-%d', errors = 'coerce')\n",
    "\n",
    "df_name_clean(contract_df, 'recipient_name')"
   ],
   "metadata": {
    "collapsed": false,
    "pycharm": {
     "name": "#%%\n"
    }
   }
  },
  {
   "cell_type": "code",
   "execution_count": 137,
   "outputs": [],
   "source": [
    "# Join SFDC accounts onto USA Spending Award data\n",
    "\n",
    "contract_merged = client_df.merge(\n",
    "    contract_df,\n",
    "    left_on = ['name', 'billing_state', 'billing_city'],\n",
    "    right_on = ['recipient_name', 'recipient_state_name', 'recipient_city_name'],\n",
    "    suffixes = ['_left', '_right'],\n",
    "    how = 'inner'\n",
    ")"
   ],
   "metadata": {
    "collapsed": false,
    "pycharm": {
     "name": "#%%\n"
    }
   }
  },
  {
   "cell_type": "code",
   "execution_count": 140,
   "outputs": [
    {
     "name": "stdout",
     "output_type": "stream",
     "text": [
      "Using Name, City, State, matching current clients onto USA spending produced 23579 matches\n",
      "USA Spending returns 44 unique accounts\n",
      "USA Spending returns 129 unique accounts\n"
     ]
    }
   ],
   "source": [
    "print('Using Name, City, State, matching current clients onto USA spending produced ' + str(contract_merged.shape[0]) + ' matches')\n",
    "\n",
    "print('USA Spending returns ' + str(contract_merged[['recipient_uei_left']].drop_duplicates().shape[0]) + ' unique accounts')\n",
    "print('USA Spending returns ' + str(contract_merged[['recipient_uei_right']].drop_duplicates().shape[0]) + ' unique accounts')"
   ],
   "metadata": {
    "collapsed": false,
    "pycharm": {
     "name": "#%%\n"
    }
   }
  },
  {
   "cell_type": "code",
   "execution_count": 141,
   "outputs": [
    {
     "data": {
      "text/plain": "                       id  is_deleted                               name  \\\n63     0015b00001lHfIIAA0       False                booz allen hamilton   \n465    0015b00001lHfnFAAS       False                 university of iowa   \n2092   001j000000OKNMyAAP       False  national industries for the blind   \n2093   001j000000OKNMyAAP       False  national industries for the blind   \n2096   001j000000OKNMyAAP       False  national industries for the blind   \n...                   ...         ...                                ...   \n21853  001j000000OKNMyAAP       False  national industries for the blind   \n21878  001j000000OKNMyAAP       False  national industries for the blind   \n22711  001j000000OKNMyAAP       False  national industries for the blind   \n22712  001j000000OKNMyAAP       False  national industries for the blind   \n22865  001j000000OKNMyAAP       False  national industries for the blind   \n\n           type parent_id recipient_uei_left           phone             fax  \\\n63     Prospect       NaN                NaN  (703) 902-5000  (703) 902-3333   \n465    Prospect       NaN       Z1H9VJS8NG16  (319) 335-3500  (319) 356-3900   \n2092   Prospect       NaN                NaN  (703) 310-0500  (703) 310-0483   \n2093   Prospect       NaN                NaN  (703) 310-0500  (703) 310-0483   \n2096   Prospect       NaN                NaN  (703) 310-0500  (703) 310-0483   \n...         ...       ...                ...             ...             ...   \n21853  Prospect       NaN                NaN  (703) 310-0500  (703) 310-0483   \n21878  Prospect       NaN                NaN  (703) 310-0500  (703) 310-0483   \n22711  Prospect       NaN                NaN  (703) 310-0500  (703) 310-0483   \n22712  Prospect       NaN                NaN  (703) 310-0500  (703) 310-0483   \n22865  Prospect       NaN                NaN  (703) 310-0500  (703) 310-0483   \n\n                    website             industry  ...  \\\n63              www.bah.com           Non-Profit  ...   \n465    http://www.uiowa.edu  Public-Sector State  ...   \n2092            www.nib.org           Non-Profit  ...   \n2093            www.nib.org           Non-Profit  ...   \n2096            www.nib.org           Non-Profit  ...   \n...                     ...                  ...  ...   \n21853           www.nib.org           Non-Profit  ...   \n21878           www.nib.org           Non-Profit  ...   \n22711           www.nib.org           Non-Profit  ...   \n22712           www.nib.org           Non-Profit  ...   \n22865           www.nib.org           Non-Profit  ...   \n\n       highly_compensated_officer_2_name highly_compensated_officer_2_amount  \\\n63                                   NaN                                 NaN   \n465                                  NaN                                 NaN   \n2092                                 NaN                                 NaN   \n2093                                 NaN                                 NaN   \n2096                                 NaN                                 NaN   \n...                                  ...                                 ...   \n21853                                NaN                                 NaN   \n21878                                NaN                                 NaN   \n22711                                NaN                                 NaN   \n22712                                NaN                                 NaN   \n22865                                NaN                                 NaN   \n\n      highly_compensated_officer_3_name highly_compensated_officer_3_amount  \\\n63                                  NaN                                 NaN   \n465                                 NaN                                 NaN   \n2092                                NaN                                 NaN   \n2093                                NaN                                 NaN   \n2096                                NaN                                 NaN   \n...                                 ...                                 ...   \n21853                               NaN                                 NaN   \n21878                               NaN                                 NaN   \n22711                               NaN                                 NaN   \n22712                               NaN                                 NaN   \n22865                               NaN                                 NaN   \n\n      highly_compensated_officer_4_name  highly_compensated_officer_4_amount  \\\n63                                  NaN                                  NaN   \n465                                 NaN                                  NaN   \n2092                                NaN                                  NaN   \n2093                                NaN                                  NaN   \n2096                                NaN                                  NaN   \n...                                 ...                                  ...   \n21853                               NaN                                  NaN   \n21878                               NaN                                  NaN   \n22711                               NaN                                  NaN   \n22712                               NaN                                  NaN   \n22865                               NaN                                  NaN   \n\n      highly_compensated_officer_5_name highly_compensated_officer_5_amount  \\\n63                                  NaN                                 NaN   \n465                                 NaN                                 NaN   \n2092                                NaN                                 NaN   \n2093                                NaN                                 NaN   \n2096                                NaN                                 NaN   \n...                                 ...                                 ...   \n21853                               NaN                                 NaN   \n21878                               NaN                                 NaN   \n22711                               NaN                                 NaN   \n22712                               NaN                                 NaN   \n22865                               NaN                                 NaN   \n\n                                   usaspending_permalink  \\\n63     https://www.usaspending.gov/award/CONT_AWD_47Q...   \n465    https://www.usaspending.gov/award/CONT_AWD_75N...   \n2092   https://www.usaspending.gov/award/CONT_AWD_47Q...   \n2093   https://www.usaspending.gov/award/CONT_AWD_47Q...   \n2096   https://www.usaspending.gov/award/CONT_AWD_47Q...   \n...                                                  ...   \n21853  https://www.usaspending.gov/award/CONT_AWD_47Q...   \n21878  https://www.usaspending.gov/award/CONT_AWD_47Q...   \n22711  https://www.usaspending.gov/award/CONT_AWD_47Q...   \n22712  https://www.usaspending.gov/award/CONT_AWD_47Q...   \n22865  https://www.usaspending.gov/award/CONT_AWD_47Q...   \n\n      last_modified_date_right  \n63         2022-09-01 17:29:45  \n465        2022-09-01 13:17:52  \n2092       2022-09-02 11:46:52  \n2093       2022-09-02 13:49:23  \n2096       2022-09-02 11:58:12  \n...                        ...  \n21853      2022-09-04 17:29:12  \n21878      2022-09-02 12:46:22  \n22711      2022-09-04 15:33:37  \n22712      2022-09-04 17:05:59  \n22865      2022-09-04 16:53:08  \n\n[99 rows x 460 columns]",
      "text/html": "<div>\n<style scoped>\n    .dataframe tbody tr th:only-of-type {\n        vertical-align: middle;\n    }\n\n    .dataframe tbody tr th {\n        vertical-align: top;\n    }\n\n    .dataframe thead th {\n        text-align: right;\n    }\n</style>\n<table border=\"1\" class=\"dataframe\">\n  <thead>\n    <tr style=\"text-align: right;\">\n      <th></th>\n      <th>id</th>\n      <th>is_deleted</th>\n      <th>name</th>\n      <th>type</th>\n      <th>parent_id</th>\n      <th>recipient_uei_left</th>\n      <th>phone</th>\n      <th>fax</th>\n      <th>website</th>\n      <th>industry</th>\n      <th>...</th>\n      <th>highly_compensated_officer_2_name</th>\n      <th>highly_compensated_officer_2_amount</th>\n      <th>highly_compensated_officer_3_name</th>\n      <th>highly_compensated_officer_3_amount</th>\n      <th>highly_compensated_officer_4_name</th>\n      <th>highly_compensated_officer_4_amount</th>\n      <th>highly_compensated_officer_5_name</th>\n      <th>highly_compensated_officer_5_amount</th>\n      <th>usaspending_permalink</th>\n      <th>last_modified_date_right</th>\n    </tr>\n  </thead>\n  <tbody>\n    <tr>\n      <th>63</th>\n      <td>0015b00001lHfIIAA0</td>\n      <td>False</td>\n      <td>booz allen hamilton</td>\n      <td>Prospect</td>\n      <td>NaN</td>\n      <td>NaN</td>\n      <td>(703) 902-5000</td>\n      <td>(703) 902-3333</td>\n      <td>www.bah.com</td>\n      <td>Non-Profit</td>\n      <td>...</td>\n      <td>NaN</td>\n      <td>NaN</td>\n      <td>NaN</td>\n      <td>NaN</td>\n      <td>NaN</td>\n      <td>NaN</td>\n      <td>NaN</td>\n      <td>NaN</td>\n      <td>https://www.usaspending.gov/award/CONT_AWD_47Q...</td>\n      <td>2022-09-01 17:29:45</td>\n    </tr>\n    <tr>\n      <th>465</th>\n      <td>0015b00001lHfnFAAS</td>\n      <td>False</td>\n      <td>university of iowa</td>\n      <td>Prospect</td>\n      <td>NaN</td>\n      <td>Z1H9VJS8NG16</td>\n      <td>(319) 335-3500</td>\n      <td>(319) 356-3900</td>\n      <td>http://www.uiowa.edu</td>\n      <td>Public-Sector State</td>\n      <td>...</td>\n      <td>NaN</td>\n      <td>NaN</td>\n      <td>NaN</td>\n      <td>NaN</td>\n      <td>NaN</td>\n      <td>NaN</td>\n      <td>NaN</td>\n      <td>NaN</td>\n      <td>https://www.usaspending.gov/award/CONT_AWD_75N...</td>\n      <td>2022-09-01 13:17:52</td>\n    </tr>\n    <tr>\n      <th>2092</th>\n      <td>001j000000OKNMyAAP</td>\n      <td>False</td>\n      <td>national industries for the blind</td>\n      <td>Prospect</td>\n      <td>NaN</td>\n      <td>NaN</td>\n      <td>(703) 310-0500</td>\n      <td>(703) 310-0483</td>\n      <td>www.nib.org</td>\n      <td>Non-Profit</td>\n      <td>...</td>\n      <td>NaN</td>\n      <td>NaN</td>\n      <td>NaN</td>\n      <td>NaN</td>\n      <td>NaN</td>\n      <td>NaN</td>\n      <td>NaN</td>\n      <td>NaN</td>\n      <td>https://www.usaspending.gov/award/CONT_AWD_47Q...</td>\n      <td>2022-09-02 11:46:52</td>\n    </tr>\n    <tr>\n      <th>2093</th>\n      <td>001j000000OKNMyAAP</td>\n      <td>False</td>\n      <td>national industries for the blind</td>\n      <td>Prospect</td>\n      <td>NaN</td>\n      <td>NaN</td>\n      <td>(703) 310-0500</td>\n      <td>(703) 310-0483</td>\n      <td>www.nib.org</td>\n      <td>Non-Profit</td>\n      <td>...</td>\n      <td>NaN</td>\n      <td>NaN</td>\n      <td>NaN</td>\n      <td>NaN</td>\n      <td>NaN</td>\n      <td>NaN</td>\n      <td>NaN</td>\n      <td>NaN</td>\n      <td>https://www.usaspending.gov/award/CONT_AWD_47Q...</td>\n      <td>2022-09-02 13:49:23</td>\n    </tr>\n    <tr>\n      <th>2096</th>\n      <td>001j000000OKNMyAAP</td>\n      <td>False</td>\n      <td>national industries for the blind</td>\n      <td>Prospect</td>\n      <td>NaN</td>\n      <td>NaN</td>\n      <td>(703) 310-0500</td>\n      <td>(703) 310-0483</td>\n      <td>www.nib.org</td>\n      <td>Non-Profit</td>\n      <td>...</td>\n      <td>NaN</td>\n      <td>NaN</td>\n      <td>NaN</td>\n      <td>NaN</td>\n      <td>NaN</td>\n      <td>NaN</td>\n      <td>NaN</td>\n      <td>NaN</td>\n      <td>https://www.usaspending.gov/award/CONT_AWD_47Q...</td>\n      <td>2022-09-02 11:58:12</td>\n    </tr>\n    <tr>\n      <th>...</th>\n      <td>...</td>\n      <td>...</td>\n      <td>...</td>\n      <td>...</td>\n      <td>...</td>\n      <td>...</td>\n      <td>...</td>\n      <td>...</td>\n      <td>...</td>\n      <td>...</td>\n      <td>...</td>\n      <td>...</td>\n      <td>...</td>\n      <td>...</td>\n      <td>...</td>\n      <td>...</td>\n      <td>...</td>\n      <td>...</td>\n      <td>...</td>\n      <td>...</td>\n      <td>...</td>\n    </tr>\n    <tr>\n      <th>21853</th>\n      <td>001j000000OKNMyAAP</td>\n      <td>False</td>\n      <td>national industries for the blind</td>\n      <td>Prospect</td>\n      <td>NaN</td>\n      <td>NaN</td>\n      <td>(703) 310-0500</td>\n      <td>(703) 310-0483</td>\n      <td>www.nib.org</td>\n      <td>Non-Profit</td>\n      <td>...</td>\n      <td>NaN</td>\n      <td>NaN</td>\n      <td>NaN</td>\n      <td>NaN</td>\n      <td>NaN</td>\n      <td>NaN</td>\n      <td>NaN</td>\n      <td>NaN</td>\n      <td>https://www.usaspending.gov/award/CONT_AWD_47Q...</td>\n      <td>2022-09-04 17:29:12</td>\n    </tr>\n    <tr>\n      <th>21878</th>\n      <td>001j000000OKNMyAAP</td>\n      <td>False</td>\n      <td>national industries for the blind</td>\n      <td>Prospect</td>\n      <td>NaN</td>\n      <td>NaN</td>\n      <td>(703) 310-0500</td>\n      <td>(703) 310-0483</td>\n      <td>www.nib.org</td>\n      <td>Non-Profit</td>\n      <td>...</td>\n      <td>NaN</td>\n      <td>NaN</td>\n      <td>NaN</td>\n      <td>NaN</td>\n      <td>NaN</td>\n      <td>NaN</td>\n      <td>NaN</td>\n      <td>NaN</td>\n      <td>https://www.usaspending.gov/award/CONT_AWD_47Q...</td>\n      <td>2022-09-02 12:46:22</td>\n    </tr>\n    <tr>\n      <th>22711</th>\n      <td>001j000000OKNMyAAP</td>\n      <td>False</td>\n      <td>national industries for the blind</td>\n      <td>Prospect</td>\n      <td>NaN</td>\n      <td>NaN</td>\n      <td>(703) 310-0500</td>\n      <td>(703) 310-0483</td>\n      <td>www.nib.org</td>\n      <td>Non-Profit</td>\n      <td>...</td>\n      <td>NaN</td>\n      <td>NaN</td>\n      <td>NaN</td>\n      <td>NaN</td>\n      <td>NaN</td>\n      <td>NaN</td>\n      <td>NaN</td>\n      <td>NaN</td>\n      <td>https://www.usaspending.gov/award/CONT_AWD_47Q...</td>\n      <td>2022-09-04 15:33:37</td>\n    </tr>\n    <tr>\n      <th>22712</th>\n      <td>001j000000OKNMyAAP</td>\n      <td>False</td>\n      <td>national industries for the blind</td>\n      <td>Prospect</td>\n      <td>NaN</td>\n      <td>NaN</td>\n      <td>(703) 310-0500</td>\n      <td>(703) 310-0483</td>\n      <td>www.nib.org</td>\n      <td>Non-Profit</td>\n      <td>...</td>\n      <td>NaN</td>\n      <td>NaN</td>\n      <td>NaN</td>\n      <td>NaN</td>\n      <td>NaN</td>\n      <td>NaN</td>\n      <td>NaN</td>\n      <td>NaN</td>\n      <td>https://www.usaspending.gov/award/CONT_AWD_47Q...</td>\n      <td>2022-09-04 17:05:59</td>\n    </tr>\n    <tr>\n      <th>22865</th>\n      <td>001j000000OKNMyAAP</td>\n      <td>False</td>\n      <td>national industries for the blind</td>\n      <td>Prospect</td>\n      <td>NaN</td>\n      <td>NaN</td>\n      <td>(703) 310-0500</td>\n      <td>(703) 310-0483</td>\n      <td>www.nib.org</td>\n      <td>Non-Profit</td>\n      <td>...</td>\n      <td>NaN</td>\n      <td>NaN</td>\n      <td>NaN</td>\n      <td>NaN</td>\n      <td>NaN</td>\n      <td>NaN</td>\n      <td>NaN</td>\n      <td>NaN</td>\n      <td>https://www.usaspending.gov/award/CONT_AWD_47Q...</td>\n      <td>2022-09-04 16:53:08</td>\n    </tr>\n  </tbody>\n</table>\n<p>99 rows × 460 columns</p>\n</div>"
     },
     "execution_count": 141,
     "metadata": {},
     "output_type": "execute_result"
    }
   ],
   "source": [
    "contract_merged['action_date'] = pd.to_datetime(contract_merged['action_date'])\n",
    "\n",
    "contract_merged[(contract_merged['action_date'].dt.month == 9)]"
   ],
   "metadata": {
    "collapsed": false,
    "pycharm": {
     "name": "#%%\n"
    }
   }
  },
  {
   "cell_type": "code",
   "execution_count": 147,
   "outputs": [],
   "source": [
    "contract_merged[(contract_merged['type'] == 'Customer')].to_csv('//Users/jack/Desktop/q3_qbr/contract.csv')"
   ],
   "metadata": {
    "collapsed": false,
    "pycharm": {
     "name": "#%%\n"
    }
   }
  },
  {
   "cell_type": "code",
   "execution_count": null,
   "outputs": [],
   "source": [],
   "metadata": {
    "collapsed": false,
    "pycharm": {
     "name": "#%%\n"
    }
   }
  }
 ],
 "metadata": {
  "kernelspec": {
   "display_name": "Python 3",
   "language": "python",
   "name": "python3"
  },
  "language_info": {
   "codemirror_mode": {
    "name": "ipython",
    "version": 2
   },
   "file_extension": ".py",
   "mimetype": "text/x-python",
   "name": "python",
   "nbconvert_exporter": "python",
   "pygments_lexer": "ipython2",
   "version": "2.7.6"
  }
 },
 "nbformat": 4,
 "nbformat_minor": 0
}