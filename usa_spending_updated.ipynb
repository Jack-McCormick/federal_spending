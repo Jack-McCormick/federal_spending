{
 "cells": [
  {
   "cell_type": "code",
   "execution_count": null,
   "metadata": {
    "collapsed": false,
    "pycharm": {
     "name": "#%%\n"
    }
   },
   "outputs": [],
   "source": [
    "# Import Packages\n",
    "import pandas as pd\n",
    "import requests\n",
    "from io import BytesIO\n",
    "from urllib.request import urlopen\n",
    "import glob\n",
    "from zipfile import ZipFile\n",
    "import os\n",
    "from datetime import datetime\n",
    "from concurrent.futures import ThreadPoolExecutor\n",
    "from pathlib import Path"
   ]
  },
  {
   "cell_type": "code",
   "execution_count": null,
   "metadata": {},
   "outputs": [],
   "source": [
    "# Remove files from folder\n",
    "pattern = r\"/Users/jack.mccormick/Documents/federal_spending_files*.csv\"\n",
    "\n",
    "for item in glob.iglob(pattern, recursive=True):\n",
    "    os.remove(item)# delete files\n",
    "\n",
    "# retrieve all agency codes\n",
    "endpoint = '/api/v2/bulk_download/list_agencies/'\n",
    "url = f'https://api.usaspending.gov{endpoint}'\n",
    "\n",
    "payload={\n",
    "    \"type\": \"award_agencies\",\n",
    "    \"agency\": 0\n",
    "}\n",
    "\n",
    "response = requests.post(url, json=payload)\n",
    "agency_json = response.json()\n",
    "\n",
    "agency_list = [agency['toptier_agency_id'] for agency in agency_json['agencies']['cfo_agencies']]\n",
    "\n",
    "# download all files by agency\n",
    "download_endpoint = '/api/v2/bulk_download/list_monthly_files/'\n",
    "download_url = f'https://api.usaspending.gov{download_endpoint}'\n",
    "file_location = '/Users/jack.mccormick/Documents/federal_spending_files'\n",
    "\n",
    "award_types = ['assistance', 'contracts']\n",
    "\n",
    "download_payload= {\n",
    "    \"fiscal_year\": datetime.today().year,\n",
    "}\n",
    "\n",
    "def download_files(x, y):\n",
    "    try:\n",
    "        download_payload[\"agency\"] = x\n",
    "        download_payload[\"type\"] = y\n",
    "        with requests.Session() as session:\n",
    "            response = session.post(download_url, json=download_payload, stream=True)\n",
    "            data = response.json()\n",
    "            for i in data['monthly_files']:\n",
    "                if i['fiscal_year'] == datetime.today().year:\n",
    "                    with urlopen(i['url']) as zipresp:\n",
    "                        with ZipFile(BytesIO(zipresp.read())) as zfile:\n",
    "                            zfile.extractall(file_location)\n",
    "                            print('Downloaded', x, y,'.csv files.')\n",
    "    except Exception as e:\n",
    "        print(f\"Error occurred while processing {x} {y}: {e}\")\n",
    "\n",
    "with ThreadPoolExecutor(max_workers=5) as executor:\n",
    "    for x in agency_list:\n",
    "        for y in award_types:\n",
    "            executor.submit(download_files, x, y)\n",
    "\n",
    "# concat all assistance and contract files\n",
    "def create_files (type) -> list:\n",
    "    li = [pd.read_csv(file, index_col=None, header=0, low_memory=False) for file in Path(file_location).glob(f'*{type}*.csv')]\n",
    "    df = pd.concat(li, axis=0, ignore_index=True)\n",
    "    return df\n",
    "\n",
    "assistance_df = create_files('Assistance')\n",
    "contract_df = create_files('Contracts')"
   ]
  },
  {
   "cell_type": "code",
   "execution_count": null,
   "metadata": {
    "collapsed": false,
    "pycharm": {
     "name": "#%%\n"
    }
   },
   "outputs": [],
   "source": [
    "prime_award_df = assistance_df[(assistance_df['recipient_uei'].isna() == False) & (assistance_df['recipient_state_name'].isna() == False) & (assistance_df['federal_action_obligation']>0)]"
   ]
  },
  {
   "cell_type": "code",
   "execution_count": null,
   "metadata": {
    "collapsed": false,
    "pycharm": {
     "name": "#%%\n"
    }
   },
   "outputs": [],
   "source": [
    "client_df = pd.read_csv('/Users/Jack/Desktop/databricks_sfdc_accounts.csv')\n",
    "\n",
    "# clean org names\n",
    "prime_award_df['recipient_name'] = prime_award_df['recipient_name'].str.lower() \\\n",
    "    .str.replace(r'(,|\\.)?inc(\\.)?', '', regex=True) \\\n",
    "    .str.replace(r'\\!|, the', '', regex=True) \\\n",
    "    .str.replace(r'(\\.|\\,)\\s*the', '', regex=True) \\\n",
    "    .str.replace(r'\\.inc\\.?|,? inc\\.?', '', regex=True) \\\n",
    "    .str.replace(r',?\\s*inc\\.?', '', regex=True) \\\n",
    "    .str.replace(r'of\\s*of', 'of', regex=True) \\\n",
    "    .str.replace(r'charities\\s+archdiocese', 'charities of the archdiocese of', regex=True) \\\n",
    "    .str.replace(r'charities\\s+diocese of', 'charities of the diocese of', regex=True) \\\n",
    "    .str.rstrip(', ')\n",
    "\n",
    "prime_award_df['recipient_parent_name'] = prime_award_df['recipient_parent_name'].str.lower() \\\n",
    "    .str.replace(r'(,|\\.)?inc(\\.)?', '', regex=True) \\\n",
    "    .str.replace(r'\\!|, the', '', regex=True) \\\n",
    "    .str.replace(r'(\\.|\\,)\\s*the', '', regex=True) \\\n",
    "    .str.replace(r'\\.inc\\.?|,? inc\\.?', '', regex=True) \\\n",
    "    .str.replace(r',?\\s*inc\\.?', '', regex=True) \\\n",
    "    .str.replace(r'of\\s*of', 'of', regex=True) \\\n",
    "    .str.replace(r'charities\\s+archdiocese', 'charities of the archdiocese of', regex=True) \\\n",
    "    .str.replace(r'charities\\s+diocese of', 'charities of the diocese of', regex=True) \\\n",
    "    .str.rstrip(', ')\n",
    "\n",
    "client_df['name'] = client_df['name'].str.lower() \\\n",
    "    .str.replace(r'(,|\\.)?inc(\\.)?', '', regex=True) \\\n",
    "    .str.replace(r'\\!|, the', '', regex=True) \\\n",
    "    .str.replace(r'(\\.|\\,)\\s*the', '', regex=True) \\\n",
    "    .str.replace(r'\\.inc\\.?|,? inc\\.?', '', regex=True) \\\n",
    "    .str.replace(r',?\\s*inc\\.?', '', regex=True) \\\n",
    "    .str.replace(r'of\\s*of', 'of', regex=True) \\\n",
    "    .str.replace(r'charities\\s+archdiocese', 'charities of the archdiocese of', regex=True) \\\n",
    "    .str.replace(r'charities\\s+diocese of', 'charities of the diocese of', regex=True) \\\n",
    "    .str.rstrip(', ')\n",
    "\n",
    "# convert dates to datetime\n",
    "prime_award_df['period_of_performance_start_date'] =  pd.to_datetime(prime_award_df['period_of_performance_start_date'])\n",
    "prime_award_df['period_of_performance_current_end_date'] =  pd.to_datetime(prime_award_df['period_of_performance_current_end_date'])\n",
    "\n",
    "\n",
    "# clean city/state names and clean zip codes\n",
    "client_df = client_df.rename(columns={\n",
    "    'Billing State/Province' : 'client_state',\n",
    "    'Billing City' : 'client_city',\n",
    "    'Unique ID' : 'id',\n",
    "    'Account Name' : 'account_name',\n",
    "    'Zip Code': 'client_zip_code'\n",
    "})\n",
    "\n",
    "prime_award_df['recipient_city_name'] = prime_award_df['recipient_city_name'].str.title()\n",
    "prime_award_df['recipient_state_name'] = prime_award_df['recipient_state_name'].str.title()\n",
    "\n",
    "prime_award_df['recipient_zip_code'] = pd.to_numeric(prime_award_df['recipient_zip_code'], errors='coerce').fillna(0)\n",
    "prime_award_df['recipient_zip_code'] = prime_award_df['recipient_zip_code'].astype(int)\n",
    "prime_award_df['recipient_zip_code'] = prime_award_df['recipient_zip_code'].apply(lambda x: '{0:0>5}'.format(x))\n",
    "\n",
    "client_df['zip_code_id'] = pd.to_numeric(client_df['zip_code_id'], errors='coerce').fillna(0)\n",
    "client_df['zip_code_id'] = client_df['zip_code_id'].astype(int)\n",
    "client_df['zip_code_id'] = client_df['zip_code_id'].apply(lambda x: '{0:0>5}'.format(x))"
   ]
  },
  {
   "cell_type": "code",
   "execution_count": null,
   "metadata": {
    "collapsed": false,
    "pycharm": {
     "name": "#%%\n"
    }
   },
   "outputs": [],
   "source": [
    "# Join SFDC accounts onto USA Spending Award data\n",
    "\n",
    "prime_award_merged_df = client_df.merge(\n",
    "    prime_award_df,\n",
    "    left_on = ['name', 'billing_state', 'billing_city']\n",
    "    right_on = ['recipient_name', 'recipient_state_name', 'recipient_city_name']\n",
    "    suffixes = ['_left', '_right'],\n",
    "    how = 'inner'\n",
    ")\n",
    "\n",
    "client_mapping_dict = dict(zip(prime_award_merged_df.id, prime_award_merged_df.recipient_uei_right))\n",
    "client_mapping_df = pd.DataFrame.from_dict(client_mapping_dict, orient='index').reset_index()"
   ]
  },
  {
   "cell_type": "code",
   "execution_count": null,
   "metadata": {
    "collapsed": false,
    "pycharm": {
     "name": "#%%\n"
    }
   },
   "outputs": [],
   "source": [
    "# Join SFDC accounts onto USA Spending Award data\n",
    "\n",
    "contract_merged = client_df.merge(\n",
    "    contract_df,\n",
    "    left_on = ['name', 'billing_state', 'billing_city'],\n",
    "    right_on = ['recipient_name', 'recipient_state_name', 'recipient_city_name'],\n",
    "    suffixes = ['_left', '_right'],\n",
    "    how = 'inner'\n",
    ")"
   ]
  },
  {
   "cell_type": "code",
   "execution_count": null,
   "metadata": {
    "collapsed": false,
    "pycharm": {
     "name": "#%%\n"
    }
   },
   "outputs": [],
   "source": [
    "print('Using Name, City, State, matching current clients onto USA spending produced ' + str(contract_merged.shape[0]) + ' matches')\n",
    "print('USA Spending returns ' + str(contract_merged[['recipient_uei_left']].drop_duplicates().shape[0]) + ' unique accounts')\n",
    "print('USA Spending returns ' + str(contract_merged[['recipient_uei_right']].drop_duplicates().shape[0]) + ' unique accounts')"
   ]
  },
  {
   "cell_type": "code",
   "execution_count": null,
   "metadata": {
    "collapsed": false,
    "pycharm": {
     "name": "#%%\n"
    }
   },
   "outputs": [],
   "source": []
  }
 ],
 "metadata": {
  "kernelspec": {
   "display_name": "Python 3",
   "language": "python",
   "name": "python3"
  },
  "language_info": {
   "codemirror_mode": {
    "name": "ipython",
    "version": 3
   },
   "file_extension": ".py",
   "mimetype": "text/x-python",
   "name": "python",
   "nbconvert_exporter": "python",
   "pygments_lexer": "ipython3",
   "version": "3.10.9"
  }
 },
 "nbformat": 4,
 "nbformat_minor": 0
}
